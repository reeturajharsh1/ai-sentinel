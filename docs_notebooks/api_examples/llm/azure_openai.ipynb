{
 "cells": [
  {
   "cell_type": "markdown",
   "id": "8b538d3a",
   "metadata": {},
   "source": [
    "# `AzureOpenAIClient` client\n",
    "\n",
    "This notebook demonstrates how to instantiate the AzureOpenAIClient object. AzureOpenAIClient is a subclass of the BaseLLMClient Abstract class.\n",
    "\n",
    "For more thorough examples of how to use AzureOpenAIClient, go to the [BaseLLMClient](example_notebooks/api_examples/llm/BaseLLMClient) notebook. "
   ]
  },
  {
   "cell_type": "code",
   "execution_count": null,
   "id": "dd16785c",
   "metadata": {},
   "outputs": [],
   "source": [
    "import ai_sentinel \n",
    "\n",
    "# initialize an Azure OpenAI LLM Client\n",
    "client = ai_sentinel.AzureOpenAIClient(\n",
    "    api_key=\"YOUR_API_KEY\",\n",
    "    model=\"gpt-4o-mini\",\n",
    "    api_version=\"2024-02-01\",\n",
    "    azure_endpoint=\"https://your-resource.openai.azure.com/\"\n",
    ")"
   ]
  },
  {
   "cell_type": "markdown",
   "id": "5e78010f",
   "metadata": {},
   "source": [
    "## Tested Models\n",
    "- gpt-4o-mini"
   ]
  },
  {
   "cell_type": "markdown",
   "id": "b918e04e",
   "metadata": {},
   "source": [
    "## Environment variable names\n",
    "The following is the recommended format to follow for key naming convention when working with Azure OpenAI"
   ]
  },
  {
   "cell_type": "code",
   "execution_count": null,
   "id": "5a42cd56",
   "metadata": {},
   "outputs": [],
   "source": [
    "AZURE_API_KEY='YOUR_API_KEY'\n",
    "AZURE_API_BASE='https://your-resource.openai.azure.com/'\n",
    "AZURE_API_VERSION='2024-12-01-preview'"
   ]
  }
 ],
 "metadata": {
  "language_info": {
   "name": "python"
  }
 },
 "nbformat": 4,
 "nbformat_minor": 5
}
