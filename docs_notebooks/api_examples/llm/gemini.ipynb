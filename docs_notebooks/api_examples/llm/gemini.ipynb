{
 "cells": [
  {
   "cell_type": "markdown",
   "id": "8b538d3a",
   "metadata": {},
   "source": [
    "# `GeminiClient` client\n",
    "\n",
    "This notebook demonstrates how to instantiate the GeminiClient object. GeminiClient is a subclass of the BaseLLMClient Abstract class.\n",
    "\n",
    "For more thorough examples of how to use AzureOpenAIClient, look to the [GeminiClient](../../../docs/build/html/_autosummary/ai_sentinel.llm.GeminiClient.html) or [BaseLLMClient](../../../docs/build/html/_autosummary/ai_sentinel.llm.BaseLLMClient.html) API reference. "
   ]
  },
  {
   "cell_type": "code",
   "execution_count": null,
   "id": "dd16785c",
   "metadata": {},
   "outputs": [],
   "source": [
    "import ai_sentinel \n",
    "\n",
    "# initialize an Gemini LLM Client\n",
    "client = ai_sentinel.GeminiClient(\n",
    "    api_key=\"YOUR_API_KEY\",\n",
    "    model=\"gemini-2.0-flash\",\n",
    ")"
   ]
  },
  {
   "cell_type": "markdown",
   "id": "5e78010f",
   "metadata": {},
   "source": [
    "## Tested Models\n",
    "-gemini-2.*-flash "
   ]
  },
  {
   "cell_type": "markdown",
   "id": "b918e04e",
   "metadata": {},
   "source": [
    "## Environment variable names\n",
    "The following is the recommended format to follow for key naming convention when working with Google Gemini"
   ]
  },
  {
   "cell_type": "code",
   "execution_count": null,
   "id": "5a42cd56",
   "metadata": {},
   "outputs": [],
   "source": [
    "GEMINI_API_KEY='YOUR_API_KEY'"
   ]
  }
 ],
 "metadata": {
  "language_info": {
   "name": "python"
  }
 },
 "nbformat": 4,
 "nbformat_minor": 5
}
